{
 "cells": [
  {
   "cell_type": "code",
   "execution_count": 3,
   "metadata": {},
   "outputs": [
    {
     "name": "stderr",
     "output_type": "stream",
     "text": [
      "Metadata file is not present in the given path; proceeding to read the csv file.\n",
      "Metadata file is not present in the given path; proceeding to read the csv file.\n"
     ]
    }
   ],
   "source": [
    "import py_entitymatching as em\n",
    "import csv\n",
    "import os\n",
    "import pandas as pd\n",
    "import py_entitymatching as em\n",
    "\n",
    "# reading cleaned csv files from stage 2\n",
    "A = em.read_csv_metadata('./filmcrave1.csv', key='id')\n",
    "B = em.read_csv_metadata('./imdb1.csv', key='id')"
   ]
  },
  {
   "cell_type": "code",
   "execution_count": 4,
   "metadata": {
    "collapsed": true
   },
   "outputs": [],
   "source": [
    "# Creating instance for overlap blocker.\n",
    "ob = em.OverlapBlocker()"
   ]
  },
  {
   "cell_type": "code",
   "execution_count": 5,
   "metadata": {},
   "outputs": [
    {
     "data": {
      "text/plain": [
       "1139838"
      ]
     },
     "execution_count": 5,
     "metadata": {},
     "output_type": "execute_result"
    }
   ],
   "source": [
    "# Overlapping on Title. (Atleast 1 word match) - [Performed better than 3-gram]\n",
    "overlap_candidate = ob.block_tables(A, B, 'Title', 'Title', word_level=True, overlap_size=1, rem_stop_words=False, \n",
    "                    l_output_attrs=['Title', 'Overall Rating', 'Year', 'Genre', 'Directors', 'Actors'], \n",
    "                    r_output_attrs=['Title', 'Overall Rating', 'Year', 'Genre', 'Directors', 'Actors'],\n",
    "                    show_progress=False)\n",
    "len(overlap_candidate)"
   ]
  },
  {
   "cell_type": "code",
   "execution_count": 7,
   "metadata": {},
   "outputs": [
    {
     "data": {
      "text/plain": [
       "9459"
      ]
     },
     "execution_count": 7,
     "metadata": {},
     "output_type": "execute_result"
    }
   ],
   "source": [
    "# Filtering previous stage blocker output further by matching atleast 1 word in directors\n",
    "overlap_candidate1 = ob.block_candset(overlap_candidate, 'Directors', 'Directors', word_level=True, overlap_size=1, show_progress=False)\n",
    "len(overlap_candidate1)"
   ]
  },
  {
   "cell_type": "code",
   "execution_count": 8,
   "metadata": {},
   "outputs": [
    {
     "data": {
      "text/plain": [
       "2024"
      ]
     },
     "execution_count": 8,
     "metadata": {},
     "output_type": "execute_result"
    }
   ],
   "source": [
    "\n",
    "# Creating instance for attribute blocker\n",
    "ab = em.AttrEquivalenceBlocker()\n",
    "\n",
    "# Blocking previous level blocker using matching year attribute\n",
    "attribute_candidate = ab.block_candset(overlap_candidate1, 'Year', 'Year', show_progress=False)\n",
    "len(attribute_candidate)"
   ]
  },
  {
   "cell_type": "code",
   "execution_count": 9,
   "metadata": {
    "collapsed": true
   },
   "outputs": [],
   "source": [
    "attribute_candidate.to_csv('BlockingSurvivedDataset.csv')"
   ]
  },
  {
   "cell_type": "code",
   "execution_count": 10,
   "metadata": {
    "collapsed": true
   },
   "outputs": [],
   "source": [
    "dbg = em.debug_blocker(attribute_candidate, A, B, output_size = 10)"
   ]
  },
  {
   "cell_type": "code",
   "execution_count": 11,
   "metadata": {},
   "outputs": [
    {
     "data": {
      "text/html": [
       "<div>\n",
       "<style scoped>\n",
       "    .dataframe tbody tr th:only-of-type {\n",
       "        vertical-align: middle;\n",
       "    }\n",
       "\n",
       "    .dataframe tbody tr th {\n",
       "        vertical-align: top;\n",
       "    }\n",
       "\n",
       "    .dataframe thead th {\n",
       "        text-align: right;\n",
       "    }\n",
       "</style>\n",
       "<table border=\"1\" class=\"dataframe\">\n",
       "  <thead>\n",
       "    <tr style=\"text-align: right;\">\n",
       "      <th></th>\n",
       "      <th>_id</th>\n",
       "      <th>ltable_id</th>\n",
       "      <th>rtable_id</th>\n",
       "      <th>ltable_Title</th>\n",
       "      <th>ltable_Overall Rating</th>\n",
       "      <th>ltable_Genre</th>\n",
       "      <th>ltable_MPAA Rating</th>\n",
       "      <th>ltable_Directors</th>\n",
       "      <th>ltable_Actors</th>\n",
       "      <th>ltable_Plot</th>\n",
       "      <th>rtable_Title</th>\n",
       "      <th>rtable_Overall Rating</th>\n",
       "      <th>rtable_Genre</th>\n",
       "      <th>rtable_MPAA Rating</th>\n",
       "      <th>rtable_Directors</th>\n",
       "      <th>rtable_Actors</th>\n",
       "      <th>rtable_Plot</th>\n",
       "    </tr>\n",
       "  </thead>\n",
       "  <tbody>\n",
       "    <tr>\n",
       "      <th>0</th>\n",
       "      <td>0</td>\n",
       "      <td>362</td>\n",
       "      <td>447</td>\n",
       "      <td>They Look Like People</td>\n",
       "      <td>2.90/4</td>\n",
       "      <td>Drama/Mystery</td>\n",
       "      <td>NR</td>\n",
       "      <td>Perry Blackshear</td>\n",
       "      <td>MacLeod Andrews, Evan Dumouchel, Margaret Ying Drake</td>\n",
       "      <td>Suspecting that those around him are actually malevolent shape-shifters, a troubled man\\n\\nquest...</td>\n",
       "      <td>They Look Like People</td>\n",
       "      <td>6.0</td>\n",
       "      <td>Drama, Horror, Mystery</td>\n",
       "      <td>Unrated</td>\n",
       "      <td>Perry Blackshear</td>\n",
       "      <td>MacLeod Andrews,Evan Dumouchel,Margaret Ying Drake,Mick Casale</td>\n",
       "      <td>Suspecting that people around him are turning into evil creatures, a troubled man questions whet...</td>\n",
       "    </tr>\n",
       "    <tr>\n",
       "      <th>1</th>\n",
       "      <td>1</td>\n",
       "      <td>573</td>\n",
       "      <td>562</td>\n",
       "      <td>Black Sea</td>\n",
       "      <td>2.62/4</td>\n",
       "      <td>Adventure/Thriller</td>\n",
       "      <td>R</td>\n",
       "      <td>Kevin Macdonald</td>\n",
       "      <td>Jude Law, Scoot McNairy, Ben Mendelsohn</td>\n",
       "      <td>Trying to appease his former an employees, a submarine captain takes on a shady job for a shadow...</td>\n",
       "      <td>Black Sea</td>\n",
       "      <td>6.4</td>\n",
       "      <td>Adventure, Drama, Thriller</td>\n",
       "      <td>R</td>\n",
       "      <td>Kevin Macdonald</td>\n",
       "      <td>Jude Law,Scoot McNairy,Ben Mendelsohn,David Threlfall</td>\n",
       "      <td>In order to make good with his former employers, a submarine captain takes a job with a shadowy ...</td>\n",
       "    </tr>\n",
       "    <tr>\n",
       "      <th>2</th>\n",
       "      <td>2</td>\n",
       "      <td>1434</td>\n",
       "      <td>1875</td>\n",
       "      <td>Beginners</td>\n",
       "      <td>2.87/4</td>\n",
       "      <td>Drama</td>\n",
       "      <td>R</td>\n",
       "      <td>Mike Mills</td>\n",
       "      <td>Ewan McGregor, Christopher Plummer, M̩lanie Laurent</td>\n",
       "      <td>A young man must deal with two bombshells that have been dropped by his elderly father: that he ...</td>\n",
       "      <td>Beginners</td>\n",
       "      <td>7.2</td>\n",
       "      <td>Comedy, Drama, Romance</td>\n",
       "      <td>R</td>\n",
       "      <td>Mike Mills</td>\n",
       "      <td>Ewan McGregor,Christopher Plummer,M̩lanie Laurent,Goran Visnjic</td>\n",
       "      <td>A young man is rocked by two announcements from his elderly father: that he has terminal cancer,...</td>\n",
       "    </tr>\n",
       "    <tr>\n",
       "      <th>3</th>\n",
       "      <td>3</td>\n",
       "      <td>1483</td>\n",
       "      <td>2280</td>\n",
       "      <td>Elite Squad: The Enemy Within ( Tropa de Elite 2 - O Inimigo Agora  Outro )</td>\n",
       "      <td>2.74/4</td>\n",
       "      <td>Action/Crime</td>\n",
       "      <td>NR</td>\n",
       "      <td>Jos̩ Padilha</td>\n",
       "      <td>Wagner Moura, Irandhir Santos, Andr̩ Ramiro</td>\n",
       "      <td>After a prison riot, Captain Nascimiento, now a high-ranking security officer in Rio de Janeiro,...</td>\n",
       "      <td>Elite Squad: The Enemy Within</td>\n",
       "      <td>8.1</td>\n",
       "      <td>Action, Crime, Drama</td>\n",
       "      <td>Not Rated</td>\n",
       "      <td>Jos̩ Padilha</td>\n",
       "      <td>Wagner Moura,Irandhir Santos,Andr̩ Ramiro,Milhem Cortaz</td>\n",
       "      <td>After a prison riot, former-Captain Nascimento, now a high ranking security officer in Rio de Ja...</td>\n",
       "    </tr>\n",
       "    <tr>\n",
       "      <th>4</th>\n",
       "      <td>4</td>\n",
       "      <td>1661</td>\n",
       "      <td>2544</td>\n",
       "      <td>Good, the Bad, the Weird, The  ( Joheunnom nabbeunnom isanghannom )</td>\n",
       "      <td>2.87/4</td>\n",
       "      <td>Adventure/Comedy</td>\n",
       "      <td>NR</td>\n",
       "      <td>Ji-woon Kim</td>\n",
       "      <td>Kang-ho Song, Byung-hun Lee, Woo-sung Jung</td>\n",
       "      <td>The story of three Korean outlaws in 1940s Manchuria and their rivalry to possess a treasure map...</td>\n",
       "      <td>The Good the Bad the Weird</td>\n",
       "      <td>7.3</td>\n",
       "      <td>Action, Adventure, Western</td>\n",
       "      <td>R</td>\n",
       "      <td>Jee-woon Kim</td>\n",
       "      <td>Kang-ho Song,Byung-hun Lee,Woo-sung Jung,Je-mun Yun</td>\n",
       "      <td>The story of two outlaws and a bounty hunter in 1940s Manchuria and their rivalry to possess a t...</td>\n",
       "    </tr>\n",
       "    <tr>\n",
       "      <th>5</th>\n",
       "      <td>5</td>\n",
       "      <td>684</td>\n",
       "      <td>1703</td>\n",
       "      <td>Ida</td>\n",
       "      <td>3.16/4</td>\n",
       "      <td>Drama</td>\n",
       "      <td>PG-13</td>\n",
       "      <td>Pawel Pawlikowski</td>\n",
       "      <td>Agata Kulesza, Agata Trzebuchowska, Joanna Kulig</td>\n",
       "      <td>In 1960s Poland, a young woman is on the verge of taking her vows to become a nun when she uncov...</td>\n",
       "      <td>Ida</td>\n",
       "      <td>7.4</td>\n",
       "      <td>Drama</td>\n",
       "      <td>PG-13</td>\n",
       "      <td>Pawel Pawlikowski</td>\n",
       "      <td>Agata Kulesza,Agata Trzebuchowska,Dawid Ogrodnik,Jerzy Trela</td>\n",
       "      <td>Anna, a young novitiate nun in 1960s Poland, is on the verge of taking her vows when she discove...</td>\n",
       "    </tr>\n",
       "    <tr>\n",
       "      <th>6</th>\n",
       "      <td>6</td>\n",
       "      <td>2069</td>\n",
       "      <td>2071</td>\n",
       "      <td>Unthinkable</td>\n",
       "      <td>2.45/4</td>\n",
       "      <td>Drama/Thriller</td>\n",
       "      <td>R</td>\n",
       "      <td>Gregor Jordan</td>\n",
       "      <td>Samuel L. Jackson, Michael Sheen, Brandon Routh</td>\n",
       "      <td>A psychological thriller centered around a black-ops interrogator and an FBI agent who press a s...</td>\n",
       "      <td>Unthinkable</td>\n",
       "      <td>7.1</td>\n",
       "      <td>Drama, Thriller</td>\n",
       "      <td>R</td>\n",
       "      <td>Gregor Jordan</td>\n",
       "      <td>Samuel L. Jackson,Carrie-Anne Moss,Michael Sheen,Stephen Root</td>\n",
       "      <td>A psychological thriller centered around a black-ops interrogator and an FBI agent who press a s...</td>\n",
       "    </tr>\n",
       "    <tr>\n",
       "      <th>7</th>\n",
       "      <td>7</td>\n",
       "      <td>2017</td>\n",
       "      <td>2717</td>\n",
       "      <td>Me and Orson Welles</td>\n",
       "      <td>2.68/4</td>\n",
       "      <td>Drama</td>\n",
       "      <td>PG-13</td>\n",
       "      <td>Richard Linklater</td>\n",
       "      <td>Ben Chaplin, Claire Danes, Zac Efron</td>\n",
       "      <td>A teenager is cast in the Mercury Theatre production of \"Julius Caesar\" directed by a young Orso...</td>\n",
       "      <td>Me and Orson Welles</td>\n",
       "      <td>6.8</td>\n",
       "      <td>Comedy, Drama</td>\n",
       "      <td>PG-13</td>\n",
       "      <td>Richard Linklater</td>\n",
       "      <td>Zac Efron,Claire Danes,Christian McKay,Zoe Kazan</td>\n",
       "      <td>In 1937, a teenager is cast in the Mercury Theatre production of \"Julius Caesar\", directed by a ...</td>\n",
       "    </tr>\n",
       "    <tr>\n",
       "      <th>8</th>\n",
       "      <td>8</td>\n",
       "      <td>2878</td>\n",
       "      <td>3425</td>\n",
       "      <td>Turtles Can Fly ( Lakposhtha parvaz mikonand )</td>\n",
       "      <td>2.93/4</td>\n",
       "      <td>Drama/War</td>\n",
       "      <td>PG-13</td>\n",
       "      <td>Bahman Ghobadi</td>\n",
       "      <td>Soran Ebrahim, Avaz Latif, Saddam Hossein Feysal</td>\n",
       "      <td>Near the Iraqi-Turkish border on the eve of an American invasion, refugee children like 13-year-...</td>\n",
       "      <td>Turtles Can Fly</td>\n",
       "      <td>8.1</td>\n",
       "      <td>Drama, War</td>\n",
       "      <td>PG-13</td>\n",
       "      <td>Bahman Ghobadi</td>\n",
       "      <td>Soran Ebrahim,Avaz Latif,Saddam Hossein Feysal,Hiresh Feysal Rahman</td>\n",
       "      <td>Near the Iraqi-Turkish border on the eve of an American invasion, refugee children like 13-year-...</td>\n",
       "    </tr>\n",
       "    <tr>\n",
       "      <th>9</th>\n",
       "      <td>9</td>\n",
       "      <td>1309</td>\n",
       "      <td>3387</td>\n",
       "      <td>Hope Springs (2012)</td>\n",
       "      <td>2.66/4</td>\n",
       "      <td>Comedy/Drama</td>\n",
       "      <td>PG-13</td>\n",
       "      <td>David Frankel</td>\n",
       "      <td>Steve Carell, Meryl Streep, Tommy Lee Jones</td>\n",
       "      <td>After 30 years of marriage, a middle-aged couple aren't sure where their relationship is headed....</td>\n",
       "      <td>Three Burials</td>\n",
       "      <td>7.4</td>\n",
       "      <td>Adventure, Crime, Drama</td>\n",
       "      <td>R</td>\n",
       "      <td>Tommy Lee Jones</td>\n",
       "      <td>Tommy Lee Jones,Barry Pepper,Dwight Yoakam,January Jones</td>\n",
       "      <td>Ranch hand Pete Perkins looks to fulfill the promise to his recently deceased best friend by bur...</td>\n",
       "    </tr>\n",
       "  </tbody>\n",
       "</table>\n",
       "</div>"
      ],
      "text/plain": [
       "   _id  ltable_id  rtable_id  \\\n",
       "0    0        362        447   \n",
       "1    1        573        562   \n",
       "2    2       1434       1875   \n",
       "3    3       1483       2280   \n",
       "4    4       1661       2544   \n",
       "5    5        684       1703   \n",
       "6    6       2069       2071   \n",
       "7    7       2017       2717   \n",
       "8    8       2878       3425   \n",
       "9    9       1309       3387   \n",
       "\n",
       "                                                                  ltable_Title  \\\n",
       "0                                                        They Look Like People   \n",
       "1                                                                    Black Sea   \n",
       "2                                                                    Beginners   \n",
       "3  Elite Squad: The Enemy Within ( Tropa de Elite 2 - O Inimigo Agora  Outro )   \n",
       "4          Good, the Bad, the Weird, The  ( Joheunnom nabbeunnom isanghannom )   \n",
       "5                                                                          Ida   \n",
       "6                                                                  Unthinkable   \n",
       "7                                                          Me and Orson Welles   \n",
       "8                               Turtles Can Fly ( Lakposhtha parvaz mikonand )   \n",
       "9                                                          Hope Springs (2012)   \n",
       "\n",
       "  ltable_Overall Rating        ltable_Genre ltable_MPAA Rating  \\\n",
       "0                2.90/4       Drama/Mystery                 NR   \n",
       "1                2.62/4  Adventure/Thriller                  R   \n",
       "2                2.87/4               Drama                  R   \n",
       "3                2.74/4        Action/Crime                 NR   \n",
       "4                2.87/4    Adventure/Comedy                 NR   \n",
       "5                3.16/4               Drama              PG-13   \n",
       "6                2.45/4      Drama/Thriller                  R   \n",
       "7                2.68/4               Drama              PG-13   \n",
       "8                2.93/4           Drama/War              PG-13   \n",
       "9                2.66/4        Comedy/Drama              PG-13   \n",
       "\n",
       "    ltable_Directors                                         ltable_Actors  \\\n",
       "0   Perry Blackshear  MacLeod Andrews, Evan Dumouchel, Margaret Ying Drake   \n",
       "1    Kevin Macdonald               Jude Law, Scoot McNairy, Ben Mendelsohn   \n",
       "2         Mike Mills   Ewan McGregor, Christopher Plummer, M̩lanie Laurent   \n",
       "3       Jos̩ Padilha           Wagner Moura, Irandhir Santos, Andr̩ Ramiro   \n",
       "4        Ji-woon Kim            Kang-ho Song, Byung-hun Lee, Woo-sung Jung   \n",
       "5  Pawel Pawlikowski      Agata Kulesza, Agata Trzebuchowska, Joanna Kulig   \n",
       "6      Gregor Jordan       Samuel L. Jackson, Michael Sheen, Brandon Routh   \n",
       "7  Richard Linklater                  Ben Chaplin, Claire Danes, Zac Efron   \n",
       "8     Bahman Ghobadi      Soran Ebrahim, Avaz Latif, Saddam Hossein Feysal   \n",
       "9      David Frankel           Steve Carell, Meryl Streep, Tommy Lee Jones   \n",
       "\n",
       "                                                                                           ltable_Plot  \\\n",
       "0  Suspecting that those around him are actually malevolent shape-shifters, a troubled man\\n\\nquest...   \n",
       "1  Trying to appease his former an employees, a submarine captain takes on a shady job for a shadow...   \n",
       "2  A young man must deal with two bombshells that have been dropped by his elderly father: that he ...   \n",
       "3  After a prison riot, Captain Nascimiento, now a high-ranking security officer in Rio de Janeiro,...   \n",
       "4  The story of three Korean outlaws in 1940s Manchuria and their rivalry to possess a treasure map...   \n",
       "5  In 1960s Poland, a young woman is on the verge of taking her vows to become a nun when she uncov...   \n",
       "6  A psychological thriller centered around a black-ops interrogator and an FBI agent who press a s...   \n",
       "7  A teenager is cast in the Mercury Theatre production of \"Julius Caesar\" directed by a young Orso...   \n",
       "8  Near the Iraqi-Turkish border on the eve of an American invasion, refugee children like 13-year-...   \n",
       "9  After 30 years of marriage, a middle-aged couple aren't sure where their relationship is headed....   \n",
       "\n",
       "                    rtable_Title  rtable_Overall Rating  \\\n",
       "0          They Look Like People                    6.0   \n",
       "1                      Black Sea                    6.4   \n",
       "2                      Beginners                    7.2   \n",
       "3  Elite Squad: The Enemy Within                    8.1   \n",
       "4     The Good the Bad the Weird                    7.3   \n",
       "5                            Ida                    7.4   \n",
       "6                    Unthinkable                    7.1   \n",
       "7            Me and Orson Welles                    6.8   \n",
       "8                Turtles Can Fly                    8.1   \n",
       "9                  Three Burials                    7.4   \n",
       "\n",
       "                 rtable_Genre rtable_MPAA Rating   rtable_Directors  \\\n",
       "0      Drama, Horror, Mystery            Unrated   Perry Blackshear   \n",
       "1  Adventure, Drama, Thriller                  R    Kevin Macdonald   \n",
       "2      Comedy, Drama, Romance                  R         Mike Mills   \n",
       "3        Action, Crime, Drama          Not Rated       Jos̩ Padilha   \n",
       "4  Action, Adventure, Western                  R       Jee-woon Kim   \n",
       "5                       Drama              PG-13  Pawel Pawlikowski   \n",
       "6             Drama, Thriller                  R      Gregor Jordan   \n",
       "7               Comedy, Drama              PG-13  Richard Linklater   \n",
       "8                  Drama, War              PG-13     Bahman Ghobadi   \n",
       "9     Adventure, Crime, Drama                  R    Tommy Lee Jones   \n",
       "\n",
       "                                                         rtable_Actors  \\\n",
       "0       MacLeod Andrews,Evan Dumouchel,Margaret Ying Drake,Mick Casale   \n",
       "1                Jude Law,Scoot McNairy,Ben Mendelsohn,David Threlfall   \n",
       "2      Ewan McGregor,Christopher Plummer,M̩lanie Laurent,Goran Visnjic   \n",
       "3              Wagner Moura,Irandhir Santos,Andr̩ Ramiro,Milhem Cortaz   \n",
       "4                  Kang-ho Song,Byung-hun Lee,Woo-sung Jung,Je-mun Yun   \n",
       "5         Agata Kulesza,Agata Trzebuchowska,Dawid Ogrodnik,Jerzy Trela   \n",
       "6        Samuel L. Jackson,Carrie-Anne Moss,Michael Sheen,Stephen Root   \n",
       "7                     Zac Efron,Claire Danes,Christian McKay,Zoe Kazan   \n",
       "8  Soran Ebrahim,Avaz Latif,Saddam Hossein Feysal,Hiresh Feysal Rahman   \n",
       "9             Tommy Lee Jones,Barry Pepper,Dwight Yoakam,January Jones   \n",
       "\n",
       "                                                                                           rtable_Plot  \n",
       "0  Suspecting that people around him are turning into evil creatures, a troubled man questions whet...  \n",
       "1  In order to make good with his former employers, a submarine captain takes a job with a shadowy ...  \n",
       "2  A young man is rocked by two announcements from his elderly father: that he has terminal cancer,...  \n",
       "3  After a prison riot, former-Captain Nascimento, now a high ranking security officer in Rio de Ja...  \n",
       "4  The story of two outlaws and a bounty hunter in 1940s Manchuria and their rivalry to possess a t...  \n",
       "5  Anna, a young novitiate nun in 1960s Poland, is on the verge of taking her vows when she discove...  \n",
       "6  A psychological thriller centered around a black-ops interrogator and an FBI agent who press a s...  \n",
       "7  In 1937, a teenager is cast in the Mercury Theatre production of \"Julius Caesar\", directed by a ...  \n",
       "8  Near the Iraqi-Turkish border on the eve of an American invasion, refugee children like 13-year-...  \n",
       "9  Ranch hand Pete Perkins looks to fulfill the promise to his recently deceased best friend by bur...  "
      ]
     },
     "execution_count": 11,
     "metadata": {},
     "output_type": "execute_result"
    }
   ],
   "source": [
    "dbg"
   ]
  },
  {
   "cell_type": "code",
   "execution_count": 19,
   "metadata": {
    "collapsed": true
   },
   "outputs": [],
   "source": [
    "# Randomly sampling 500 records from the candidate tuple pairs\n",
    "sample = em.sample_table(attribute_candidate, 500)"
   ]
  },
  {
   "cell_type": "code",
   "execution_count": 20,
   "metadata": {
    "collapsed": true
   },
   "outputs": [],
   "source": [
    "# Storing this sample for labelling.\n",
    "sample.to_csv(\"Sampleset.csv\")"
   ]
  },
  {
   "cell_type": "code",
   "execution_count": 12,
   "metadata": {},
   "outputs": [
    {
     "name": "stderr",
     "output_type": "stream",
     "text": [
      "Metadata file is not present in the given path; proceeding to read the csv file.\n"
     ]
    }
   ],
   "source": [
    "# Opening the csv file and cleaning and converting to new CSV File\n",
    "with open('./Sampleset.csv', 'r', encoding='utf-8', errors='ignore') as infile, open('./Sampleset1.csv', 'w') as outfile:\n",
    "     inputs = csv.reader(infile)\n",
    "     outputs = csv.writer(outfile)\n",
    "\n",
    "     for index, row in enumerate(inputs):\n",
    "         outputs.writerow(row)\n",
    "\n",
    "# Read in the labelled dataset        \n",
    "G = em.read_csv_metadata(\"./Sampleset1.csv\", key='_id', \n",
    "                         fk_ltable='ltable_id', fk_rtable='rtable_id',\n",
    "                         ltable=A, rtable=B)"
   ]
  },
  {
   "cell_type": "code",
   "execution_count": 13,
   "metadata": {
    "collapsed": true
   },
   "outputs": [],
   "source": [
    "# Splitting the data into training and testing portions. \n",
    "split = em.split_train_test(G, train_proportion=0.5, random_state=0)\n",
    "\n",
    "# Training and testing set splits\n",
    "train_set = split['train']\n",
    "test_set = split['test']"
   ]
  },
  {
   "cell_type": "code",
   "execution_count": 14,
   "metadata": {},
   "outputs": [
    {
     "name": "stdout",
     "output_type": "stream",
     "text": [
      "250 250\n"
     ]
    }
   ],
   "source": [
    "print (len(train_set), len(test_set))"
   ]
  },
  {
   "cell_type": "code",
   "execution_count": 15,
   "metadata": {
    "collapsed": true
   },
   "outputs": [],
   "source": [
    "train_set.to_csv('Trainset.csv')\n",
    "test_set.to_csv('Testset.csv')"
   ]
  },
  {
   "cell_type": "code",
   "execution_count": 16,
   "metadata": {
    "collapsed": true
   },
   "outputs": [],
   "source": [
    "# Initialising all ML algos\n",
    "dt = em.DTMatcher(name='DecisionTree', random_state=0)\n",
    "svm = em.SVMMatcher(name='SVM', random_state=0)\n",
    "rf = em.RFMatcher(name='RF', random_state=0)\n",
    "lg = em.LogRegMatcher(name='LogReg', random_state=0)\n",
    "ln = em.LinRegMatcher(name='LinReg')\n",
    "nb = em.NBMatcher(name='NaiveBayes')"
   ]
  },
  {
   "cell_type": "code",
   "execution_count": 17,
   "metadata": {
    "collapsed": true
   },
   "outputs": [],
   "source": [
    "# Generating features for training\n",
    "features = em.get_features_for_matching(A, B, validate_inferred_attr_types=False)"
   ]
  },
  {
   "cell_type": "code",
   "execution_count": 18,
   "metadata": {
    "collapsed": true
   },
   "outputs": [],
   "source": [
    "# Extracting feature vectors to train and create model\n",
    "H = em.extract_feature_vecs(train_set, \n",
    "                            feature_table=features, \n",
    "                            attrs_after='label',\n",
    "                            show_progress=False)"
   ]
  },
  {
   "cell_type": "code",
   "execution_count": 19,
   "metadata": {},
   "outputs": [
    {
     "data": {
      "text/html": [
       "<div>\n",
       "<style scoped>\n",
       "    .dataframe tbody tr th:only-of-type {\n",
       "        vertical-align: middle;\n",
       "    }\n",
       "\n",
       "    .dataframe tbody tr th {\n",
       "        vertical-align: top;\n",
       "    }\n",
       "\n",
       "    .dataframe thead th {\n",
       "        text-align: right;\n",
       "    }\n",
       "</style>\n",
       "<table border=\"1\" class=\"dataframe\">\n",
       "  <thead>\n",
       "    <tr style=\"text-align: right;\">\n",
       "      <th></th>\n",
       "      <th>_id</th>\n",
       "      <th>ltable_id</th>\n",
       "      <th>rtable_id</th>\n",
       "      <th>id_id_exm</th>\n",
       "      <th>id_id_anm</th>\n",
       "      <th>id_id_lev_dist</th>\n",
       "      <th>id_id_lev_sim</th>\n",
       "      <th>Title_Title_jac_qgm_3_qgm_3</th>\n",
       "      <th>Title_Title_cos_dlm_dc0_dlm_dc0</th>\n",
       "      <th>Title_Title_jac_dlm_dc0_dlm_dc0</th>\n",
       "      <th>...</th>\n",
       "      <th>Directors_Directors_nmw</th>\n",
       "      <th>Directors_Directors_sw</th>\n",
       "      <th>Actors_Actors_jac_qgm_3_qgm_3</th>\n",
       "      <th>Actors_Actors_cos_dlm_dc0_dlm_dc0</th>\n",
       "      <th>Actors_Actors_mel</th>\n",
       "      <th>Actors_Actors_lev_dist</th>\n",
       "      <th>Actors_Actors_lev_sim</th>\n",
       "      <th>Plot_Plot_jac_qgm_3_qgm_3</th>\n",
       "      <th>Plot_Plot_cos_dlm_dc0_dlm_dc0</th>\n",
       "      <th>label</th>\n",
       "    </tr>\n",
       "  </thead>\n",
       "  <tbody>\n",
       "    <tr>\n",
       "      <th>476</th>\n",
       "      <td>1007330</td>\n",
       "      <td>3001</td>\n",
       "      <td>3298</td>\n",
       "      <td>0</td>\n",
       "      <td>0.909945</td>\n",
       "      <td>3</td>\n",
       "      <td>0.250000</td>\n",
       "      <td>0.259259</td>\n",
       "      <td>0.408248</td>\n",
       "      <td>0.250000</td>\n",
       "      <td>...</td>\n",
       "      <td>15.0</td>\n",
       "      <td>15.0</td>\n",
       "      <td>0.585714</td>\n",
       "      <td>0.166667</td>\n",
       "      <td>0.898730</td>\n",
       "      <td>17.0</td>\n",
       "      <td>0.730159</td>\n",
       "      <td>0.053892</td>\n",
       "      <td>0.069171</td>\n",
       "      <td>1</td>\n",
       "    </tr>\n",
       "    <tr>\n",
       "      <th>162</th>\n",
       "      <td>350997</td>\n",
       "      <td>1110</td>\n",
       "      <td>1147</td>\n",
       "      <td>0</td>\n",
       "      <td>0.967742</td>\n",
       "      <td>2</td>\n",
       "      <td>0.500000</td>\n",
       "      <td>0.450000</td>\n",
       "      <td>0.816497</td>\n",
       "      <td>0.666667</td>\n",
       "      <td>...</td>\n",
       "      <td>12.0</td>\n",
       "      <td>12.0</td>\n",
       "      <td>0.537313</td>\n",
       "      <td>0.166667</td>\n",
       "      <td>0.871178</td>\n",
       "      <td>19.0</td>\n",
       "      <td>0.666667</td>\n",
       "      <td>0.216667</td>\n",
       "      <td>0.193601</td>\n",
       "      <td>1</td>\n",
       "    </tr>\n",
       "    <tr>\n",
       "      <th>34</th>\n",
       "      <td>63043</td>\n",
       "      <td>39</td>\n",
       "      <td>202</td>\n",
       "      <td>0</td>\n",
       "      <td>0.193069</td>\n",
       "      <td>3</td>\n",
       "      <td>0.000000</td>\n",
       "      <td>0.230769</td>\n",
       "      <td>0.408248</td>\n",
       "      <td>0.250000</td>\n",
       "      <td>...</td>\n",
       "      <td>12.0</td>\n",
       "      <td>12.0</td>\n",
       "      <td>0.557377</td>\n",
       "      <td>0.182574</td>\n",
       "      <td>0.881275</td>\n",
       "      <td>15.0</td>\n",
       "      <td>0.705882</td>\n",
       "      <td>0.124000</td>\n",
       "      <td>0.141069</td>\n",
       "      <td>1</td>\n",
       "    </tr>\n",
       "    <tr>\n",
       "      <th>44</th>\n",
       "      <td>85897</td>\n",
       "      <td>243</td>\n",
       "      <td>280</td>\n",
       "      <td>0</td>\n",
       "      <td>0.867857</td>\n",
       "      <td>2</td>\n",
       "      <td>0.333333</td>\n",
       "      <td>0.153846</td>\n",
       "      <td>0.707107</td>\n",
       "      <td>0.500000</td>\n",
       "      <td>...</td>\n",
       "      <td>12.0</td>\n",
       "      <td>12.0</td>\n",
       "      <td>0.558824</td>\n",
       "      <td>0.182574</td>\n",
       "      <td>0.882112</td>\n",
       "      <td>17.0</td>\n",
       "      <td>0.711864</td>\n",
       "      <td>0.216138</td>\n",
       "      <td>0.243778</td>\n",
       "      <td>1</td>\n",
       "    </tr>\n",
       "    <tr>\n",
       "      <th>97</th>\n",
       "      <td>168032</td>\n",
       "      <td>847</td>\n",
       "      <td>543</td>\n",
       "      <td>0</td>\n",
       "      <td>0.641086</td>\n",
       "      <td>2</td>\n",
       "      <td>0.333333</td>\n",
       "      <td>1.000000</td>\n",
       "      <td>1.000000</td>\n",
       "      <td>1.000000</td>\n",
       "      <td>...</td>\n",
       "      <td>13.0</td>\n",
       "      <td>13.0</td>\n",
       "      <td>0.346154</td>\n",
       "      <td>0.182574</td>\n",
       "      <td>0.667645</td>\n",
       "      <td>36.0</td>\n",
       "      <td>0.389831</td>\n",
       "      <td>0.321192</td>\n",
       "      <td>0.358209</td>\n",
       "      <td>1</td>\n",
       "    </tr>\n",
       "  </tbody>\n",
       "</table>\n",
       "<p>5 rows × 35 columns</p>\n",
       "</div>"
      ],
      "text/plain": [
       "         _id  ltable_id  rtable_id  id_id_exm  id_id_anm  id_id_lev_dist  \\\n",
       "476  1007330       3001       3298          0   0.909945               3   \n",
       "162   350997       1110       1147          0   0.967742               2   \n",
       "34     63043         39        202          0   0.193069               3   \n",
       "44     85897        243        280          0   0.867857               2   \n",
       "97    168032        847        543          0   0.641086               2   \n",
       "\n",
       "     id_id_lev_sim  Title_Title_jac_qgm_3_qgm_3  \\\n",
       "476       0.250000                     0.259259   \n",
       "162       0.500000                     0.450000   \n",
       "34        0.000000                     0.230769   \n",
       "44        0.333333                     0.153846   \n",
       "97        0.333333                     1.000000   \n",
       "\n",
       "     Title_Title_cos_dlm_dc0_dlm_dc0  Title_Title_jac_dlm_dc0_dlm_dc0  ...    \\\n",
       "476                         0.408248                         0.250000  ...     \n",
       "162                         0.816497                         0.666667  ...     \n",
       "34                          0.408248                         0.250000  ...     \n",
       "44                          0.707107                         0.500000  ...     \n",
       "97                          1.000000                         1.000000  ...     \n",
       "\n",
       "     Directors_Directors_nmw  Directors_Directors_sw  \\\n",
       "476                     15.0                    15.0   \n",
       "162                     12.0                    12.0   \n",
       "34                      12.0                    12.0   \n",
       "44                      12.0                    12.0   \n",
       "97                      13.0                    13.0   \n",
       "\n",
       "     Actors_Actors_jac_qgm_3_qgm_3  Actors_Actors_cos_dlm_dc0_dlm_dc0  \\\n",
       "476                       0.585714                           0.166667   \n",
       "162                       0.537313                           0.166667   \n",
       "34                        0.557377                           0.182574   \n",
       "44                        0.558824                           0.182574   \n",
       "97                        0.346154                           0.182574   \n",
       "\n",
       "     Actors_Actors_mel  Actors_Actors_lev_dist  Actors_Actors_lev_sim  \\\n",
       "476           0.898730                    17.0               0.730159   \n",
       "162           0.871178                    19.0               0.666667   \n",
       "34            0.881275                    15.0               0.705882   \n",
       "44            0.882112                    17.0               0.711864   \n",
       "97            0.667645                    36.0               0.389831   \n",
       "\n",
       "     Plot_Plot_jac_qgm_3_qgm_3  Plot_Plot_cos_dlm_dc0_dlm_dc0  label  \n",
       "476                   0.053892                       0.069171      1  \n",
       "162                   0.216667                       0.193601      1  \n",
       "34                    0.124000                       0.141069      1  \n",
       "44                    0.216138                       0.243778      1  \n",
       "97                    0.321192                       0.358209      1  \n",
       "\n",
       "[5 rows x 35 columns]"
      ]
     },
     "execution_count": 19,
     "metadata": {},
     "output_type": "execute_result"
    }
   ],
   "source": [
    "H.head()"
   ]
  },
  {
   "cell_type": "code",
   "execution_count": 20,
   "metadata": {},
   "outputs": [
    {
     "data": {
      "text/plain": [
       "True"
      ]
     },
     "execution_count": 20,
     "metadata": {},
     "output_type": "execute_result"
    }
   ],
   "source": [
    "# Checking if any value is null\n",
    "any(pd.notnull(H))"
   ]
  },
  {
   "cell_type": "code",
   "execution_count": 21,
   "metadata": {
    "collapsed": true
   },
   "outputs": [],
   "source": [
    "# We found null values. Hence, used impute_table to fill up the other values with strategy - mean.\n",
    "H = em.impute_table(H, \n",
    "                exclude_attrs=['_id', 'ltable_id', 'rtable_id', 'label'],\n",
    "                strategy='mean')"
   ]
  },
  {
   "cell_type": "code",
   "execution_count": null,
   "metadata": {},
   "outputs": [],
   "source": [
    "# Running select matcher step to run all possible algos and pick the best ML\n",
    "result = em.select_matcher([dt, rf, svm, ln, lg, nb], table=H, \n",
    "        exclude_attrs=['_id', 'ltable_id', 'rtable_id', 'label'],\n",
    "        k=5,\n",
    "        target_attr='label', metric_to_select_matcher='f1', random_state=0)"
   ]
  },
  {
   "cell_type": "code",
   "execution_count": 24,
   "metadata": {
    "scrolled": true
   },
   "outputs": [
    {
     "data": {
      "text/html": [
       "<div>\n",
       "<style scoped>\n",
       "    .dataframe tbody tr th:only-of-type {\n",
       "        vertical-align: middle;\n",
       "    }\n",
       "\n",
       "    .dataframe tbody tr th {\n",
       "        vertical-align: top;\n",
       "    }\n",
       "\n",
       "    .dataframe thead th {\n",
       "        text-align: right;\n",
       "    }\n",
       "</style>\n",
       "<table border=\"1\" class=\"dataframe\">\n",
       "  <thead>\n",
       "    <tr style=\"text-align: right;\">\n",
       "      <th></th>\n",
       "      <th>Matcher</th>\n",
       "      <th>Average precision</th>\n",
       "      <th>Average recall</th>\n",
       "      <th>Average f1</th>\n",
       "    </tr>\n",
       "  </thead>\n",
       "  <tbody>\n",
       "    <tr>\n",
       "      <th>0</th>\n",
       "      <td>DecisionTree</td>\n",
       "      <td>0.989717</td>\n",
       "      <td>0.995122</td>\n",
       "      <td>0.992322</td>\n",
       "    </tr>\n",
       "    <tr>\n",
       "      <th>1</th>\n",
       "      <td>RF</td>\n",
       "      <td>1.000000</td>\n",
       "      <td>0.995122</td>\n",
       "      <td>0.997531</td>\n",
       "    </tr>\n",
       "    <tr>\n",
       "      <th>2</th>\n",
       "      <td>SVM</td>\n",
       "      <td>0.895191</td>\n",
       "      <td>1.000000</td>\n",
       "      <td>0.943919</td>\n",
       "    </tr>\n",
       "    <tr>\n",
       "      <th>3</th>\n",
       "      <td>LinReg</td>\n",
       "      <td>1.000000</td>\n",
       "      <td>1.000000</td>\n",
       "      <td>1.000000</td>\n",
       "    </tr>\n",
       "    <tr>\n",
       "      <th>4</th>\n",
       "      <td>LogReg</td>\n",
       "      <td>0.994595</td>\n",
       "      <td>0.995122</td>\n",
       "      <td>0.994791</td>\n",
       "    </tr>\n",
       "    <tr>\n",
       "      <th>5</th>\n",
       "      <td>NaiveBayes</td>\n",
       "      <td>1.000000</td>\n",
       "      <td>1.000000</td>\n",
       "      <td>1.000000</td>\n",
       "    </tr>\n",
       "  </tbody>\n",
       "</table>\n",
       "</div>"
      ],
      "text/plain": [
       "        Matcher  Average precision  Average recall  Average f1\n",
       "0  DecisionTree           0.989717        0.995122    0.992322\n",
       "1            RF           1.000000        0.995122    0.997531\n",
       "2           SVM           0.895191        1.000000    0.943919\n",
       "3        LinReg           1.000000        1.000000    1.000000\n",
       "4        LogReg           0.994595        0.995122    0.994791\n",
       "5    NaiveBayes           1.000000        1.000000    1.000000"
      ]
     },
     "execution_count": 24,
     "metadata": {},
     "output_type": "execute_result"
    }
   ],
   "source": [
    "# Showing cross validation statistics\n",
    "result['cv_stats']"
   ]
  },
  {
   "cell_type": "code",
   "execution_count": 25,
   "metadata": {},
   "outputs": [
    {
     "data": {
      "text/html": [
       "<div>\n",
       "<style scoped>\n",
       "    .dataframe tbody tr th:only-of-type {\n",
       "        vertical-align: middle;\n",
       "    }\n",
       "\n",
       "    .dataframe tbody tr th {\n",
       "        vertical-align: top;\n",
       "    }\n",
       "\n",
       "    .dataframe thead th {\n",
       "        text-align: right;\n",
       "    }\n",
       "</style>\n",
       "<table border=\"1\" class=\"dataframe\">\n",
       "  <thead>\n",
       "    <tr style=\"text-align: right;\">\n",
       "      <th></th>\n",
       "      <th>Name</th>\n",
       "      <th>Matcher</th>\n",
       "      <th>Num folds</th>\n",
       "      <th>Fold 1</th>\n",
       "      <th>Fold 2</th>\n",
       "      <th>Fold 3</th>\n",
       "      <th>Fold 4</th>\n",
       "      <th>Fold 5</th>\n",
       "      <th>Mean score</th>\n",
       "    </tr>\n",
       "  </thead>\n",
       "  <tbody>\n",
       "    <tr>\n",
       "      <th>0</th>\n",
       "      <td>DecisionTree</td>\n",
       "      <td>&lt;py_entitymatching.matcher.dtmatcher.DTMatcher object at 0x12f70f780&gt;</td>\n",
       "      <td>5</td>\n",
       "      <td>0.986301</td>\n",
       "      <td>0.987654</td>\n",
       "      <td>1.000000</td>\n",
       "      <td>0.987654</td>\n",
       "      <td>1.000000</td>\n",
       "      <td>0.992322</td>\n",
       "    </tr>\n",
       "    <tr>\n",
       "      <th>1</th>\n",
       "      <td>RF</td>\n",
       "      <td>&lt;py_entitymatching.matcher.rfmatcher.RFMatcher object at 0x12f70f8d0&gt;</td>\n",
       "      <td>5</td>\n",
       "      <td>1.000000</td>\n",
       "      <td>1.000000</td>\n",
       "      <td>1.000000</td>\n",
       "      <td>0.987654</td>\n",
       "      <td>1.000000</td>\n",
       "      <td>0.997531</td>\n",
       "    </tr>\n",
       "    <tr>\n",
       "      <th>2</th>\n",
       "      <td>SVM</td>\n",
       "      <td>&lt;py_entitymatching.matcher.svmmatcher.SVMMatcher object at 0x13042c6a0&gt;</td>\n",
       "      <td>5</td>\n",
       "      <td>0.923077</td>\n",
       "      <td>0.987654</td>\n",
       "      <td>0.909091</td>\n",
       "      <td>0.964706</td>\n",
       "      <td>0.935065</td>\n",
       "      <td>0.943919</td>\n",
       "    </tr>\n",
       "    <tr>\n",
       "      <th>3</th>\n",
       "      <td>LinReg</td>\n",
       "      <td>&lt;py_entitymatching.matcher.linregmatcher.LinRegMatcher object at 0x12f70f9e8&gt;</td>\n",
       "      <td>5</td>\n",
       "      <td>1.000000</td>\n",
       "      <td>1.000000</td>\n",
       "      <td>1.000000</td>\n",
       "      <td>1.000000</td>\n",
       "      <td>1.000000</td>\n",
       "      <td>1.000000</td>\n",
       "    </tr>\n",
       "    <tr>\n",
       "      <th>4</th>\n",
       "      <td>LogReg</td>\n",
       "      <td>&lt;py_entitymatching.matcher.logregmatcher.LogRegMatcher object at 0x12f70f940&gt;</td>\n",
       "      <td>5</td>\n",
       "      <td>0.986301</td>\n",
       "      <td>1.000000</td>\n",
       "      <td>1.000000</td>\n",
       "      <td>0.987654</td>\n",
       "      <td>1.000000</td>\n",
       "      <td>0.994791</td>\n",
       "    </tr>\n",
       "    <tr>\n",
       "      <th>5</th>\n",
       "      <td>NaiveBayes</td>\n",
       "      <td>&lt;py_entitymatching.matcher.nbmatcher.NBMatcher object at 0x125d1b908&gt;</td>\n",
       "      <td>5</td>\n",
       "      <td>1.000000</td>\n",
       "      <td>1.000000</td>\n",
       "      <td>1.000000</td>\n",
       "      <td>1.000000</td>\n",
       "      <td>1.000000</td>\n",
       "      <td>1.000000</td>\n",
       "    </tr>\n",
       "  </tbody>\n",
       "</table>\n",
       "</div>"
      ],
      "text/plain": [
       "           Name  \\\n",
       "0  DecisionTree   \n",
       "1            RF   \n",
       "2           SVM   \n",
       "3        LinReg   \n",
       "4        LogReg   \n",
       "5    NaiveBayes   \n",
       "\n",
       "                                                                         Matcher  \\\n",
       "0          <py_entitymatching.matcher.dtmatcher.DTMatcher object at 0x12f70f780>   \n",
       "1          <py_entitymatching.matcher.rfmatcher.RFMatcher object at 0x12f70f8d0>   \n",
       "2        <py_entitymatching.matcher.svmmatcher.SVMMatcher object at 0x13042c6a0>   \n",
       "3  <py_entitymatching.matcher.linregmatcher.LinRegMatcher object at 0x12f70f9e8>   \n",
       "4  <py_entitymatching.matcher.logregmatcher.LogRegMatcher object at 0x12f70f940>   \n",
       "5          <py_entitymatching.matcher.nbmatcher.NBMatcher object at 0x125d1b908>   \n",
       "\n",
       "   Num folds    Fold 1    Fold 2    Fold 3    Fold 4    Fold 5  Mean score  \n",
       "0          5  0.986301  0.987654  1.000000  0.987654  1.000000    0.992322  \n",
       "1          5  1.000000  1.000000  1.000000  0.987654  1.000000    0.997531  \n",
       "2          5  0.923077  0.987654  0.909091  0.964706  0.935065    0.943919  \n",
       "3          5  1.000000  1.000000  1.000000  1.000000  1.000000    1.000000  \n",
       "4          5  0.986301  1.000000  1.000000  0.987654  1.000000    0.994791  \n",
       "5          5  1.000000  1.000000  1.000000  1.000000  1.000000    1.000000  "
      ]
     },
     "execution_count": 25,
     "metadata": {},
     "output_type": "execute_result"
    }
   ],
   "source": [
    "result['drill_down_cv_stats']['f1']"
   ]
  },
  {
   "cell_type": "code",
   "execution_count": 26,
   "metadata": {
    "collapsed": true
   },
   "outputs": [],
   "source": [
    "# Choosing Linear Regression as it has highest f1-score.\n",
    "dt = em.DTMatcher(name='LinReg', random_state=0)"
   ]
  },
  {
   "cell_type": "code",
   "execution_count": 27,
   "metadata": {
    "collapsed": true
   },
   "outputs": [],
   "source": [
    "dt.fit(table=H, \n",
    "       exclude_attrs=['_id', 'ltable_id', 'rtable_id', 'label'], \n",
    "       target_attr='label')"
   ]
  },
  {
   "cell_type": "code",
   "execution_count": 28,
   "metadata": {
    "collapsed": true
   },
   "outputs": [],
   "source": [
    "# Extracting feature vectors for test_set\n",
    "L = em.extract_feature_vecs(test_set, feature_table=features,\n",
    "                            attrs_after='label', show_progress=False)"
   ]
  },
  {
   "cell_type": "code",
   "execution_count": 29,
   "metadata": {},
   "outputs": [
    {
     "data": {
      "text/plain": [
       "True"
      ]
     },
     "execution_count": 29,
     "metadata": {},
     "output_type": "execute_result"
    }
   ],
   "source": [
    "# Checking for null values in test_Set\n",
    "any(pd.notnull(L))"
   ]
  },
  {
   "cell_type": "code",
   "execution_count": 30,
   "metadata": {
    "collapsed": true
   },
   "outputs": [],
   "source": [
    "# Filling null values with mean of the column\n",
    "L = em.impute_table(L, \n",
    "                exclude_attrs=['_id', 'ltable_id', 'rtable_id', 'label'],\n",
    "                strategy='mean')"
   ]
  },
  {
   "cell_type": "code",
   "execution_count": 31,
   "metadata": {
    "collapsed": true
   },
   "outputs": [],
   "source": [
    "# Predicting on the test set\n",
    "predictions = dt.predict(table=L, exclude_attrs=['_id', 'ltable_id', 'rtable_id', 'label'], \n",
    "              append=True, target_attr='predicted', inplace=False, return_probs=True,\n",
    "                        probs_attr='proba')"
   ]
  },
  {
   "cell_type": "code",
   "execution_count": 32,
   "metadata": {},
   "outputs": [
    {
     "data": {
      "text/html": [
       "<div>\n",
       "<style scoped>\n",
       "    .dataframe tbody tr th:only-of-type {\n",
       "        vertical-align: middle;\n",
       "    }\n",
       "\n",
       "    .dataframe tbody tr th {\n",
       "        vertical-align: top;\n",
       "    }\n",
       "\n",
       "    .dataframe thead th {\n",
       "        text-align: right;\n",
       "    }\n",
       "</style>\n",
       "<table border=\"1\" class=\"dataframe\">\n",
       "  <thead>\n",
       "    <tr style=\"text-align: right;\">\n",
       "      <th></th>\n",
       "      <th>_id</th>\n",
       "      <th>ltable_id</th>\n",
       "      <th>rtable_id</th>\n",
       "      <th>predicted</th>\n",
       "      <th>proba</th>\n",
       "    </tr>\n",
       "  </thead>\n",
       "  <tbody>\n",
       "    <tr>\n",
       "      <th>90</th>\n",
       "      <td>155959</td>\n",
       "      <td>163</td>\n",
       "      <td>499</td>\n",
       "      <td>1</td>\n",
       "      <td>1.0</td>\n",
       "    </tr>\n",
       "    <tr>\n",
       "      <th>254</th>\n",
       "      <td>529437</td>\n",
       "      <td>1959</td>\n",
       "      <td>1736</td>\n",
       "      <td>1</td>\n",
       "      <td>1.0</td>\n",
       "    </tr>\n",
       "    <tr>\n",
       "      <th>283</th>\n",
       "      <td>603984</td>\n",
       "      <td>2180</td>\n",
       "      <td>1972</td>\n",
       "      <td>1</td>\n",
       "      <td>1.0</td>\n",
       "    </tr>\n",
       "    <tr>\n",
       "      <th>445</th>\n",
       "      <td>936841</td>\n",
       "      <td>3176</td>\n",
       "      <td>3076</td>\n",
       "      <td>1</td>\n",
       "      <td>1.0</td>\n",
       "    </tr>\n",
       "    <tr>\n",
       "      <th>461</th>\n",
       "      <td>971241</td>\n",
       "      <td>3124</td>\n",
       "      <td>3178</td>\n",
       "      <td>1</td>\n",
       "      <td>1.0</td>\n",
       "    </tr>\n",
       "  </tbody>\n",
       "</table>\n",
       "</div>"
      ],
      "text/plain": [
       "        _id  ltable_id  rtable_id  predicted  proba\n",
       "90   155959        163        499          1    1.0\n",
       "254  529437       1959       1736          1    1.0\n",
       "283  603984       2180       1972          1    1.0\n",
       "445  936841       3176       3076          1    1.0\n",
       "461  971241       3124       3178          1    1.0"
      ]
     },
     "execution_count": 32,
     "metadata": {},
     "output_type": "execute_result"
    }
   ],
   "source": [
    "predictions[['_id', 'ltable_id', 'rtable_id', 'predicted', 'proba']].head()"
   ]
  },
  {
   "cell_type": "code",
   "execution_count": 33,
   "metadata": {},
   "outputs": [
    {
     "name": "stdout",
     "output_type": "stream",
     "text": [
      "Precision : 97.33% (182/187)\n",
      "Recall : 98.38% (182/185)\n",
      "F1 : 97.85%\n",
      "False positives : 5 (out of 187 positive predictions)\n",
      "False negatives : 3 (out of 63 negative predictions)\n"
     ]
    }
   ],
   "source": [
    "# Evaluating the matches and printing summary out\n",
    "eval_result = em.eval_matches(predictions, 'label', 'predicted')\n",
    "em.print_eval_summary(eval_result)"
   ]
  },
  {
   "cell_type": "code",
   "execution_count": 34,
   "metadata": {},
   "outputs": [
    {
     "name": "stdout",
     "output_type": "stream",
     "text": [
      "Precision : 97.33% (182/187)\n",
      "Recall : 98.38% (182/185)\n",
      "F1 : 97.85%\n",
      "False positives : 5 (out of 187 positive predictions)\n",
      "False negatives : 3 (out of 63 negative predictions)\n",
      "Precision : 97.87% (184/188)\n",
      "Recall : 99.46% (184/185)\n",
      "F1 : 98.66%\n",
      "False positives : 4 (out of 188 positive predictions)\n",
      "False negatives : 1 (out of 62 negative predictions)\n"
     ]
    },
    {
     "name": "stderr",
     "output_type": "stream",
     "text": [
      "/Library/Frameworks/Python.framework/Versions/3.6/lib/python3.6/site-packages/scipy/linalg/basic.py:1226: RuntimeWarning: internal gelsd driver lwork query error, required iwork dimension not returned. This is likely the result of LAPACK bug 0038, fixed in LAPACK 3.2.2 (released July 21, 2010). Falling back to 'gelss' driver.\n",
      "  warnings.warn(mesg, RuntimeWarning)\n",
      "There is no proba function defined for Linear Regression Matcher in scikit learn. So we return the probs as 1\n"
     ]
    },
    {
     "name": "stdout",
     "output_type": "stream",
     "text": [
      "Precision : 98.4% (185/188)\n",
      "Recall : 100.0% (185/185)\n",
      "F1 : 99.2%\n",
      "False positives : 3 (out of 188 positive predictions)\n",
      "False negatives : 0 (out of 62 negative predictions)\n",
      "Precision : 98.4% (185/188)\n",
      "Recall : 100.0% (185/185)\n",
      "F1 : 99.2%\n",
      "False positives : 3 (out of 188 positive predictions)\n",
      "False negatives : 0 (out of 62 negative predictions)\n",
      "Precision : 98.4% (185/188)\n",
      "Recall : 100.0% (185/185)\n",
      "F1 : 99.2%\n",
      "False positives : 3 (out of 188 positive predictions)\n",
      "False negatives : 0 (out of 62 negative predictions)\n"
     ]
    }
   ],
   "source": [
    "dt = em.DTMatcher(name='DecisionTree', random_state=0)\n",
    "svm = em.SVMMatcher(name='SVM', random_state=0)\n",
    "rf = em.RFMatcher(name='RF', random_state=0)\n",
    "lg = em.LogRegMatcher(name='LogReg', random_state=0)\n",
    "ln = em.LinRegMatcher(name='LinReg')\n",
    "nb = em.NBMatcher(name='NaiveBayes')\n",
    "classifiers = [dt, rf, ln, lg, nb]\n",
    "\n",
    "for c in classifiers:\n",
    "    c.fit(table=H, \n",
    "           exclude_attrs=['_id', 'ltable_id', 'rtable_id', 'label'], \n",
    "           target_attr='label')\n",
    "\n",
    "    # Extracting feature vectors for test_set\n",
    "    L = em.extract_feature_vecs(test_set, feature_table=features,\n",
    "                                attrs_after='label', show_progress=False)\n",
    "    # Checking for null values in test_Set\n",
    "    any(pd.notnull(L))\n",
    "\n",
    "    # Filling null values with mean of the column\n",
    "    L = em.impute_table(L, \n",
    "                    exclude_attrs=['_id', 'ltable_id', 'rtable_id', 'label'],\n",
    "                    strategy='mean')\n",
    "\n",
    "    # Predicting on the test set\n",
    "    predictions = c.predict(table=L, exclude_attrs=['_id', 'ltable_id', 'rtable_id', 'label'], \n",
    "                  append=True, target_attr='predicted', inplace=False, return_probs=True,\n",
    "                            probs_attr='proba')\n",
    "\n",
    "    predictions[['_id', 'ltable_id', 'rtable_id', 'predicted', 'proba']].head()\n",
    "\n",
    "    # Evaluating the matches and printing summary out\n",
    "    eval_result = em.eval_matches(predictions, 'label', 'predicted')\n",
    "    em.print_eval_summary(eval_result)"
   ]
  },
  {
   "cell_type": "code",
   "execution_count": null,
   "metadata": {
    "collapsed": true
   },
   "outputs": [],
   "source": []
  }
 ],
 "metadata": {
  "kernelspec": {
   "display_name": "Python 3",
   "language": "python",
   "name": "python3"
  },
  "language_info": {
   "codemirror_mode": {
    "name": "ipython",
    "version": 3
   },
   "file_extension": ".py",
   "mimetype": "text/x-python",
   "name": "python",
   "nbconvert_exporter": "python",
   "pygments_lexer": "ipython3",
   "version": "3.6.2"
  }
 },
 "nbformat": 4,
 "nbformat_minor": 2
}
